{
 "cells": [
  {
   "cell_type": "code",
   "execution_count": null,
   "metadata": {},
   "outputs": [],
   "source": [
    "from selenium import webdriver\n",
    "from selenium.webdriver.common.by import By\n",
    "from selenium.webdriver.support import expected_conditions as EC\n",
    "from selenium.webdriver.support.ui import WebDriverWait\n",
    "from selenium.webdriver.chrome.options import Options\n",
    "from selenium.webdriver.chrome.service import Service\n",
    "import json"
   ]
  },
  {
   "cell_type": "code",
   "execution_count": null,
   "metadata": {},
   "outputs": [],
   "source": [
    "opts = Options()\n",
    "opts.add_argument(\"user-agent=Mozilla/5.0 (X11; Linux x86_64) AppleWebKit/537.36 (KHTML, like Gecko) Ubuntu Chromium/71.0.3578.80 Chrome/71.0.3578.80 Safari/537.36\")\n",
    "\n",
    "# Especifica la ubicación del chromedriver.exe\n",
    "chrome_driver_path = './chromedriver.exe'\n",
    "\n",
    "# Inicia el servicio del controlador de Chrome\n",
    "chrome_service = Service(chrome_driver_path)\n",
    "driver = webdriver.Chrome(service=chrome_service , options=opts)\n",
    "\n",
    "driver.get(\"https://listado.mercadolibre.com.py/laptops-accesorios-notebooks/\")"
   ]
  },
  {
   "cell_type": "code",
   "execution_count": null,
   "metadata": {},
   "outputs": [],
   "source": [
    "lista_detalles_de_productos = []\n",
    "total_productos = driver.find_element(By.XPATH, '//span[@class=\"ui-search-search-result__quantity-results\"]').text\n",
    "#Extraer solo los dígitos de mi total de resultados de busqueda\n",
    "total_productos_numero = int(''.join(filter(str.isdigit, total_productos)))\n",
    "print(\"Número total de productos:\", total_productos_numero)\n",
    "\n",
    "producto_numero=0\n",
    "while True:\n",
    "    links_productos = driver.find_elements(By.XPATH, '//a[@class=\"ui-search-item__group__element ui-search-link__title-card ui-search-link\"]')\n",
    "    links_de_la_pagina = []\n",
    "    for i in links_productos:\n",
    "        links_de_la_pagina.append(i.get_attribute('href'))\n",
    "\n",
    "    for link in links_de_la_pagina:\n",
    "        try:\n",
    "            driver.get(link)\n",
    "            titulo = driver.find_element(By.XPATH, '//h1[@class=\"ui-pdp-title\"]').text\n",
    "            precio = driver.find_element(By.XPATH, '//span[@class=\"andes-money-amount__fraction\"]').text\n",
    "            \n",
    "            descripcion_element = driver.find_element(By.XPATH, '//p[@class=\"ui-pdp-description__content\"]')\n",
    "            descripcion = ' '.join(descripcion_element.text.split())\n",
    "            lista_detalles_de_productos.append({\n",
    "                'link': link,\n",
    "                'titulo': titulo,\n",
    "                'precio': precio,\n",
    "                'descripcion':descripcion,\n",
    "            })\n",
    "\n",
    "            #contabilizamos el avance de los productos\n",
    "            producto_numero += 1\n",
    "            print(f'Agregado producto numero: {producto_numero} de {total_productos_numero}')\n",
    "            driver.back()\n",
    "        except Exception as e:\n",
    "            print(e)\n",
    "            driver.back()\n",
    "\n",
    "    try:\n",
    "        # Hacer scroll hacia abajo hasta el final de la página\n",
    "        driver.execute_script(\"window.scrollTo(0, document.body.scrollHeight);\")\n",
    "        # Agregar una espera después del scroll\n",
    "        wait = WebDriverWait(driver, 10)\n",
    "        boton_siguiente = wait.until(EC.presence_of_element_located((By.XPATH, '//a[@class=\"andes-pagination__link ui-search-link\"]/span[text()=\"Siguiente\"]' )))\n",
    "        boton_siguiente.click()\n",
    "        \n",
    "    except Exception as e:\n",
    "        break\n",
    "        print(e)"
   ]
  },
  {
   "cell_type": "code",
   "execution_count": null,
   "metadata": {},
   "outputs": [],
   "source": [
    "print (len(lista_detalles_de_productos))\n",
    "# Guarda la lista de productos totales en un archivo JSON\n",
    "with open('productos_totales.json', 'w', encoding='utf-8') as json_file:\n",
    "    json.dump(lista_detalles_de_productos, json_file, ensure_ascii=False, indent=4)"
   ]
  },
  {
   "cell_type": "code",
   "execution_count": null,
   "metadata": {},
   "outputs": [],
   "source": []
  },
  {
   "cell_type": "code",
   "execution_count": null,
   "metadata": {},
   "outputs": [],
   "source": []
  }
 ],
 "metadata": {
  "kernelspec": {
   "display_name": "venv",
   "language": "python",
   "name": "python3"
  },
  "language_info": {
   "codemirror_mode": {
    "name": "ipython",
    "version": 3
   },
   "file_extension": ".py",
   "mimetype": "text/x-python",
   "name": "python",
   "nbconvert_exporter": "python",
   "pygments_lexer": "ipython3",
   "version": "3.10.4"
  }
 },
 "nbformat": 4,
 "nbformat_minor": 2
}
