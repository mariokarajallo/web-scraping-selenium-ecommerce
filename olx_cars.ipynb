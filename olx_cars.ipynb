{
 "cells": [
  {
   "cell_type": "code",
   "execution_count": 7,
   "metadata": {},
   "outputs": [],
   "source": [
    "import json\n",
    "import random\n",
    "import time\n",
    "from selenium import webdriver\n",
    "from selenium.webdriver.chrome.service import Service"
   ]
  },
  {
   "cell_type": "code",
   "execution_count": 8,
   "metadata": {},
   "outputs": [],
   "source": [
    "# Especifica la ubicación del chromedriver.exe\n",
    "chrome_driver_path = './chromedriver.exe'\n",
    "\n",
    "# Inicia el servicio del controlador de Chrome\n",
    "chrome_service = Service(chrome_driver_path)\n",
    "\n",
    "# Inicia el controlador de Chrome con el servicio especificado\n",
    "driver = webdriver.Chrome(service=chrome_service)"
   ]
  },
  {
   "cell_type": "code",
   "execution_count": 9,
   "metadata": {},
   "outputs": [],
   "source": [
    "base_url ='https://www.olx.com.br/autos-e-pecas/carros-vans-e-utilitarios/2023?gb=1&q=toyota'\n",
    "\n",
    "# Lista para almacenar todos los autos\n",
    "autos_totales = []"
   ]
  },
  {
   "cell_type": "code",
   "execution_count": 10,
   "metadata": {},
   "outputs": [],
   "source": [
    "# Abre la página actual\n",
    "driver.get(base_url)\n",
    "\n",
    "# Espera unos segundos para que la página cargue completamente (puedes ajustar el tiempo según sea necesario)\n",
    "driver.implicitly_wait(5)\n",
    "\n",
    "# Inicia el bucle para recorrer las páginas\n",
    "while True:\n",
    "    # Todos los autos de una lista\n",
    "    autos = driver.find_elements('xpath', '//section[@data-ds-component=\"DS-AdCard\"]')\n",
    "\n",
    "    # Itera sobre los elementos y extrae la información\n",
    "    for auto in autos:\n",
    "        # Extrae el precio\n",
    "        try:\n",
    "            precio = auto.find_element('xpath', './/h3[contains(@class, \"olx-ad-card__price\")]').text\n",
    "        except:\n",
    "            precio = \"No disponible\"\n",
    "\n",
    "        # Extrae los kilómetros\n",
    "        try:\n",
    "            kilometros = auto.find_element('xpath', './/ul[@class=\"olx-ad-card__labels-items\"]/li[1]/span').text\n",
    "        except:\n",
    "            kilometros = \"No disponible\"\n",
    "\n",
    "        # Extrae el título\n",
    "        try:\n",
    "            titulo = auto.find_element('xpath', './/h2').text\n",
    "        except:\n",
    "            titulo = \"No disponible\"\n",
    "\n",
    "        # Agrega los resultados a la lista de autos totales\n",
    "        autos_totales.append({\n",
    "            \"Precio\": precio,\n",
    "            \"Kilómetros\": kilometros,\n",
    "            \"Título\": titulo\n",
    "        })\n",
    "\n",
    "    # Busca el botón de \"Próxima página\" y verifica la propiedad aria-disabled\n",
    "    next_button = driver.find_element('xpath', '//a[@data-ds-component=\"DS-Button\" and .//span[text()=\"Próxima página\"]]')\n",
    "\n",
    "    # Verifica si la propiedad aria-disabled es \"true\"\n",
    "    if next_button.get_attribute('aria-disabled') == 'true':\n",
    "        # Si es \"true\", sal del bucle\n",
    "        break\n",
    "\n",
    "    # Si no es \"true\", haz clic en el botón de \"Próxima página\"\n",
    "    next_button.click()\n",
    "\n",
    "    # Espera un tiempo aleatorio antes de cargar la siguiente página\n",
    "    time.sleep(random.uniform(5.0, 8.0))"
   ]
  },
  {
   "cell_type": "code",
   "execution_count": 11,
   "metadata": {},
   "outputs": [
    {
     "name": "stdout",
     "output_type": "stream",
     "text": [
      "425\n"
     ]
    }
   ],
   "source": [
    "print (len(autos_totales))"
   ]
  },
  {
   "cell_type": "code",
   "execution_count": 12,
   "metadata": {},
   "outputs": [],
   "source": [
    "# Guarda la lista de autos totales en un archivo JSON\n",
    "with open('autos_totales.json', 'w', encoding='utf-8') as json_file:\n",
    "    json.dump(autos_totales, json_file, ensure_ascii=False, indent=4)"
   ]
  }
 ],
 "metadata": {
  "kernelspec": {
   "display_name": "venv",
   "language": "python",
   "name": "python3"
  },
  "language_info": {
   "codemirror_mode": {
    "name": "ipython",
    "version": 3
   },
   "file_extension": ".py",
   "mimetype": "text/x-python",
   "name": "python",
   "nbconvert_exporter": "python",
   "pygments_lexer": "ipython3",
   "version": "3.10.4"
  }
 },
 "nbformat": 4,
 "nbformat_minor": 2
}
